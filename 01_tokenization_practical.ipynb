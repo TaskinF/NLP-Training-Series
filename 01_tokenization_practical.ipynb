{
 "cells": [
  {
   "cell_type": "markdown",
   "id": "96e422ee-ed22-49db-bb70-e2cfa310f43e",
   "metadata": {},
   "source": [
    "## Install Library"
   ]
  },
  {
   "cell_type": "code",
   "execution_count": 1,
   "id": "ccb9eb44-cf29-415a-9433-cf3480126cdf",
   "metadata": {},
   "outputs": [
    {
     "name": "stdout",
     "output_type": "stream",
     "text": [
      "Requirement already satisfied: nltk in c:\\users\\furka\\appdata\\local\\programs\\python\\python312\\lib\\site-packages (3.9.1)Note: you may need to restart the kernel to use updated packages.\n",
      "\n",
      "Requirement already satisfied: click in c:\\users\\furka\\appdata\\local\\programs\\python\\python312\\lib\\site-packages (from nltk) (8.1.7)\n",
      "Requirement already satisfied: joblib in c:\\users\\furka\\appdata\\local\\programs\\python\\python312\\lib\\site-packages (from nltk) (1.4.2)\n",
      "Requirement already satisfied: regex>=2021.8.3 in c:\\users\\furka\\appdata\\local\\programs\\python\\python312\\lib\\site-packages (from nltk) (2024.9.11)\n",
      "Requirement already satisfied: tqdm in c:\\users\\furka\\appdata\\local\\programs\\python\\python312\\lib\\site-packages (from nltk) (4.66.5)\n",
      "Requirement already satisfied: colorama in c:\\users\\furka\\appdata\\local\\programs\\python\\python312\\lib\\site-packages (from click->nltk) (0.4.6)\n"
     ]
    }
   ],
   "source": [
    "pip install nltk"
   ]
  },
  {
   "cell_type": "code",
   "execution_count": 2,
   "id": "bf2341ab-e9ed-44b0-9870-59004e4854a6",
   "metadata": {},
   "outputs": [
    {
     "name": "stderr",
     "output_type": "stream",
     "text": [
      "[nltk_data] Downloading package punkt to\n",
      "[nltk_data]     C:\\Users\\furka\\AppData\\Roaming\\nltk_data...\n",
      "[nltk_data]   Package punkt is already up-to-date!\n",
      "[nltk_data] Downloading package punkt_tab to\n",
      "[nltk_data]     C:\\Users\\furka\\AppData\\Roaming\\nltk_data...\n",
      "[nltk_data]   Package punkt_tab is already up-to-date!\n"
     ]
    },
    {
     "data": {
      "text/plain": [
       "True"
      ]
     },
     "execution_count": 2,
     "metadata": {},
     "output_type": "execute_result"
    }
   ],
   "source": [
    "import nltk\n",
    "nltk.download('punkt')\n",
    "nltk.download('punkt_tab')"
   ]
  },
  {
   "cell_type": "markdown",
   "id": "ac0ea37f-bc54-47ca-886e-f2598630d151",
   "metadata": {},
   "source": [
    "## Tokenization"
   ]
  },
  {
   "cell_type": "code",
   "execution_count": 13,
   "id": "5aa87812-19c9-4de8-bc58-532702785b5e",
   "metadata": {},
   "outputs": [],
   "source": [
    "corpus=\"\"\"Hello Welcome, I am Furkan.\n",
    "This is an Furkan's NLP training series! Please study all topics in order.\n",
    "\"\"\""
   ]
  },
  {
   "cell_type": "code",
   "execution_count": 14,
   "id": "d4e7a9e9-be60-4a22-ab1c-c50bf39eed36",
   "metadata": {},
   "outputs": [
    {
     "name": "stdout",
     "output_type": "stream",
     "text": [
      "Hello Welcome, I am Furkan.\n",
      "This is an Furkan's NLP training series! Please study all topics in order.\n",
      "\n"
     ]
    }
   ],
   "source": [
    "print(corpus)"
   ]
  },
  {
   "cell_type": "code",
   "execution_count": 15,
   "id": "139ab425-f22f-4fa1-bd00-ee75616a3745",
   "metadata": {},
   "outputs": [],
   "source": [
    "##  Tokenization: Sentence --> Paragraph\n",
    "from nltk.tokenize import sent_tokenize\n",
    "documents = sent_tokenize(corpus)"
   ]
  },
  {
   "cell_type": "code",
   "execution_count": 16,
   "id": "cf870f2c-e2fe-40d1-9a4f-00432431c59f",
   "metadata": {},
   "outputs": [
    {
     "data": {
      "text/plain": [
       "list"
      ]
     },
     "execution_count": 16,
     "metadata": {},
     "output_type": "execute_result"
    }
   ],
   "source": [
    "type(documents)"
   ]
  },
  {
   "cell_type": "code",
   "execution_count": 17,
   "id": "583502e1-fd6c-40ac-a945-bafb6168a433",
   "metadata": {},
   "outputs": [
    {
     "name": "stdout",
     "output_type": "stream",
     "text": [
      "Hello Welcome, I am Furkan.\n",
      "This is an Furkan's NLP training series!\n",
      "Please study all topics in order.\n"
     ]
    }
   ],
   "source": [
    "for sentence in documents:\n",
    "    print(sentence)"
   ]
  },
  {
   "cell_type": "code",
   "execution_count": 18,
   "id": "a15dcfb7-3b3c-492f-98ab-25bacb1ddbb2",
   "metadata": {},
   "outputs": [],
   "source": [
    "## Tokenization : \n",
    "## Paragraph--->words\n",
    "## sentence--->words\n",
    "from nltk.tokenize import word_tokenize"
   ]
  },
  {
   "cell_type": "code",
   "execution_count": 19,
   "id": "b5a44935-9051-40ed-9382-0b764bd21214",
   "metadata": {},
   "outputs": [
    {
     "data": {
      "text/plain": [
       "['Hello',\n",
       " 'Welcome',\n",
       " ',',\n",
       " 'I',\n",
       " 'am',\n",
       " 'Furkan',\n",
       " '.',\n",
       " 'This',\n",
       " 'is',\n",
       " 'an',\n",
       " 'Furkan',\n",
       " \"'s\",\n",
       " 'NLP',\n",
       " 'training',\n",
       " 'series',\n",
       " '!',\n",
       " 'Please',\n",
       " 'study',\n",
       " 'all',\n",
       " 'topics',\n",
       " 'in',\n",
       " 'order',\n",
       " '.']"
      ]
     },
     "execution_count": 19,
     "metadata": {},
     "output_type": "execute_result"
    }
   ],
   "source": [
    "word_tokenize(corpus)"
   ]
  },
  {
   "cell_type": "code",
   "execution_count": 20,
   "id": "af0c33da-d8e5-41fb-9d47-ab615efa4908",
   "metadata": {},
   "outputs": [
    {
     "name": "stdout",
     "output_type": "stream",
     "text": [
      "['Hello', 'Welcome', ',', 'I', 'am', 'Furkan', '.']\n",
      "['This', 'is', 'an', 'Furkan', \"'s\", 'NLP', 'training', 'series', '!']\n",
      "['Please', 'study', 'all', 'topics', 'in', 'order', '.']\n"
     ]
    }
   ],
   "source": [
    "for sentence in documents:\n",
    "    print(word_tokenize(sentence))"
   ]
  },
  {
   "cell_type": "code",
   "execution_count": 21,
   "id": "8443515d-ac71-43ae-9bc5-22677ed1cc7b",
   "metadata": {},
   "outputs": [],
   "source": [
    "from nltk.tokenize import wordpunct_tokenize"
   ]
  },
  {
   "cell_type": "code",
   "execution_count": 22,
   "id": "6536c2f2-5d70-4a74-8832-c78cc78011a9",
   "metadata": {},
   "outputs": [
    {
     "data": {
      "text/plain": [
       "['Hello',\n",
       " 'Welcome',\n",
       " ',',\n",
       " 'I',\n",
       " 'am',\n",
       " 'Furkan',\n",
       " '.',\n",
       " 'This',\n",
       " 'is',\n",
       " 'an',\n",
       " 'Furkan',\n",
       " \"'\",\n",
       " 's',\n",
       " 'NLP',\n",
       " 'training',\n",
       " 'series',\n",
       " '!',\n",
       " 'Please',\n",
       " 'study',\n",
       " 'all',\n",
       " 'topics',\n",
       " 'in',\n",
       " 'order',\n",
       " '.']"
      ]
     },
     "execution_count": 22,
     "metadata": {},
     "output_type": "execute_result"
    }
   ],
   "source": [
    "wordpunct_tokenize(corpus)"
   ]
  },
  {
   "cell_type": "code",
   "execution_count": 23,
   "id": "e2de3f7e-0fae-4485-9db5-5ecc9c19f821",
   "metadata": {},
   "outputs": [],
   "source": [
    "from nltk.tokenize import TreebankWordTokenizer"
   ]
  },
  {
   "cell_type": "code",
   "execution_count": 25,
   "id": "2ad5b976-12a6-4429-84a8-7ccc5def8415",
   "metadata": {},
   "outputs": [
    {
     "data": {
      "text/plain": [
       "['Hello',\n",
       " 'Welcome',\n",
       " ',',\n",
       " 'I',\n",
       " 'am',\n",
       " 'Furkan.',\n",
       " 'This',\n",
       " 'is',\n",
       " 'an',\n",
       " 'Furkan',\n",
       " \"'s\",\n",
       " 'NLP',\n",
       " 'training',\n",
       " 'series',\n",
       " '!',\n",
       " 'Please',\n",
       " 'study',\n",
       " 'all',\n",
       " 'topics',\n",
       " 'in',\n",
       " 'order',\n",
       " '.']"
      ]
     },
     "execution_count": 25,
     "metadata": {},
     "output_type": "execute_result"
    }
   ],
   "source": [
    "tokenizer=TreebankWordTokenizer()\n",
    "tokenizer.tokenize(corpus)"
   ]
  }
 ],
 "metadata": {
  "kernelspec": {
   "display_name": "Python (3.12.5)",
   "language": "python",
   "name": "3.12.5"
  },
  "language_info": {
   "codemirror_mode": {
    "name": "ipython",
    "version": 3
   },
   "file_extension": ".py",
   "mimetype": "text/x-python",
   "name": "python",
   "nbconvert_exporter": "python",
   "pygments_lexer": "ipython3",
   "version": "3.12.5"
  }
 },
 "nbformat": 4,
 "nbformat_minor": 5
}
