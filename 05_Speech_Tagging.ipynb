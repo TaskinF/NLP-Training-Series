{
 "cells": [
  {
   "cell_type": "markdown",
   "id": "603cfc6c-0314-47d8-ad55-7d8dad26b204",
   "metadata": {},
   "source": [
    "## Speech Tags"
   ]
  },
  {
   "cell_type": "raw",
   "id": "24abd42c-3752-4b09-8331-52a05913acd4",
   "metadata": {},
   "source": [
    "CC: coordinating conjunction \n",
    "CD: cardinal digit \n",
    "DT: determiner \n",
    "EX: existential there (like: “there is” … think of it like “there exists”) \n",
    "FW: foreign word \n",
    "IN: preposition/subordinating conjunction \n",
    "JJ: adjective – ‘big’ \n",
    "JJR: adjective, comparative – ‘bigger’ \n",
    "JJS: adjective, superlative – ‘biggest’ \n",
    "LS: list marker 1) \n",
    "MD: modal – could, will \n",
    "NN: noun, singular ‘- desk’ \n",
    "NNS: noun plural – ‘desks’ \n",
    "NNP: proper noun, singular – ‘Harrison’ \n",
    "NNPS: proper noun, plural – ‘Americans’ \n",
    "PDT: predeterminer – ‘all the kids’ \n",
    "POS: possessive ending parent’s \n",
    "PRP: personal pronoun –  I, he, she \n",
    "PRP$: possessive pronoun – my, his, hers \n",
    "RB: adverb – very, silently, \n",
    "RBR: adverb, comparative – better \n",
    "RBS: adverb, superlative – best \n",
    "RP: particle – give up \n",
    "TO: – to go ‘to’ the store. \n",
    "UH: interjection – errrrrrrrm \n",
    "VB: verb, base form – take \n",
    "VBD: verb, past tense – took \n",
    "VBG: verb, gerund/present participle – taking \n",
    "VBN: verb, past participle – taken \n",
    "VBP: verb, sing. present, non-3d – take \n",
    "VBZ: verb, 3rd person sing. present – takes \n",
    "WDT: wh-determiner – which \n",
    "WP: wh-pronoun – who, what \n",
    "WP$: possessive wh-pronoun, eg- whose \n",
    "WRB: wh-adverb, eg- where, when"
   ]
  },
  {
   "cell_type": "code",
   "execution_count": 17,
   "id": "b20c8d26-a458-45f5-8561-37bb74b1f110",
   "metadata": {},
   "outputs": [],
   "source": [
    "## Speech Example\n",
    "paragraph = \"\"\"I have always envisioned three essential pillars for the future of our nation. Throughout the annals of history, countless civilizations have attempted to suppress us, invade our lands, and dictate our destiny. From the Romans to the Persians, the British to the French, we have faced wave after wave of conquest and domination. Yet, despite the trials and tribulations, we have never sought to impose our will on others. We did not seize foreign lands, nor did we crush their cultures or dictate their ways of life. This respect for others' sovereignty and dignity forms the foundation of my first pillar: unity in diversity. Our strength lies in embracing differences while building a harmonious society.\n",
    "\n",
    "My second pillar is innovation. For too long, we have been content to follow the lead of others, but now, the time has come for us to shape our own future. We must invest in science, technology, and education, nurturing a generation of thinkers and creators. We have the potential to lead the world, but only if we believe in our abilities and push forward with confidence.\n",
    "\n",
    "Finally, the third pillar is responsibility. As a nation, we must understand that with great power comes great responsibility. Whether in terms of military, economic, or intellectual strength, we must use our resources wisely to uplift not only ourselves but also those around us. A powerful nation is one that protects, empowers, and inspires its people, and I believe that if we can achieve this, we will stand tall among the great nations of the world.\"\"\""
   ]
  },
  {
   "cell_type": "code",
   "execution_count": 9,
   "id": "f3a57304-6a1c-4183-a6c5-346e59849fc1",
   "metadata": {},
   "outputs": [],
   "source": [
    "import nltk\n",
    "sentences=nltk.sent_tokenize(paragraph)"
   ]
  },
  {
   "cell_type": "code",
   "execution_count": 10,
   "id": "040dea21-9c6c-486b-b311-e165134f8a8c",
   "metadata": {
    "scrolled": true
   },
   "outputs": [
    {
     "data": {
      "text/plain": [
       "['I have always envisioned three essential pillars for the future of our nation.',\n",
       " 'Throughout the annals of history, countless civilizations have attempted to suppress us, invade our lands, and dictate our destiny.',\n",
       " 'From the Romans to the Persians, the British to the French, we have faced wave after wave of conquest and domination.',\n",
       " 'Yet, despite the trials and tribulations, we have never sought to impose our will on others.',\n",
       " 'We did not seize foreign lands, nor did we crush their cultures or dictate their ways of life.',\n",
       " \"This respect for others' sovereignty and dignity forms the foundation of my first pillar: unity in diversity.\",\n",
       " 'Our strength lies in embracing differences while building a harmonious society.',\n",
       " 'My second pillar is innovation.',\n",
       " 'For too long, we have been content to follow the lead of others, but now, the time has come for us to shape our own future.',\n",
       " 'We must invest in science, technology, and education, nurturing a generation of thinkers and creators.',\n",
       " 'We have the potential to lead the world, but only if we believe in our abilities and push forward with confidence.',\n",
       " 'Finally, the third pillar is responsibility.',\n",
       " 'As a nation, we must understand that with great power comes great responsibility.',\n",
       " 'Whether in terms of military, economic, or intellectual strength, we must use our resources wisely to uplift not only ourselves but also those around us.',\n",
       " 'A powerful nation is one that protects, empowers, and inspires its people, and I believe that if we can achieve this, we will stand tall among the great nations of the world.']"
      ]
     },
     "execution_count": 10,
     "metadata": {},
     "output_type": "execute_result"
    }
   ],
   "source": [
    "sentences"
   ]
  },
  {
   "cell_type": "code",
   "execution_count": 11,
   "id": "584aa636-6057-4524-8e45-507356a2e233",
   "metadata": {},
   "outputs": [
    {
     "name": "stdout",
     "output_type": "stream",
     "text": [
      "[('I', 'PRP'), ('always', 'RB'), ('envisioned', 'VBD'), ('three', 'CD'), ('essential', 'JJ'), ('pillars', 'NNS'), ('future', 'JJ'), ('nation', 'NN'), ('.', '.')]\n",
      "[('Throughout', 'IN'), ('annals', 'NNS'), ('history', 'NN'), (',', ','), ('countless', 'JJ'), ('civilizations', 'NNS'), ('attempted', 'VBD'), ('suppress', 'JJ'), ('us', 'PRP'), (',', ','), ('invade', 'VB'), ('lands', 'NNS'), (',', ','), ('dictate', 'NN'), ('destiny', 'NN'), ('.', '.')]\n",
      "[('From', 'IN'), ('Romans', 'NNPS'), ('Persians', 'NNPS'), (',', ','), ('British', 'JJ'), ('French', 'JJ'), (',', ','), ('faced', 'JJ'), ('wave', 'VBP'), ('wave', 'VBP'), ('conquest', 'JJS'), ('domination', 'NN'), ('.', '.')]\n",
      "[('Yet', 'RB'), (',', ','), ('despite', 'IN'), ('trials', 'NNS'), ('tribulations', 'NNS'), (',', ','), ('never', 'RB'), ('sought', 'VBN'), ('impose', 'JJ'), ('others', 'NNS'), ('.', '.')]\n",
      "[('We', 'PRP'), ('seize', 'VBP'), ('foreign', 'JJ'), ('lands', 'NNS'), (',', ','), ('crush', 'NN'), ('cultures', 'NNS'), ('dictate', 'VBP'), ('ways', 'NNS'), ('life', 'NN'), ('.', '.')]\n",
      "[('This', 'DT'), ('respect', 'NN'), ('others', 'NNS'), (\"'\", 'POS'), ('sovereignty', 'NN'), ('dignity', 'NN'), ('forms', 'NNS'), ('foundation', 'VBP'), ('first', 'JJ'), ('pillar', 'NN'), (':', ':'), ('unity', 'JJ'), ('diversity', 'NN'), ('.', '.')]\n",
      "[('Our', 'PRP$'), ('strength', 'NN'), ('lies', 'VBZ'), ('embracing', 'VBG'), ('differences', 'NNS'), ('building', 'VBG'), ('harmonious', 'JJ'), ('society', 'NN'), ('.', '.')]\n",
      "[('My', 'PRP$'), ('second', 'JJ'), ('pillar', 'JJ'), ('innovation', 'NN'), ('.', '.')]\n",
      "[('For', 'IN'), ('long', 'RB'), (',', ','), ('content', 'JJ'), ('follow', 'VBP'), ('lead', 'JJ'), ('others', 'NNS'), (',', ','), (',', ','), ('time', 'NN'), ('come', 'VB'), ('us', 'PRP'), ('shape', 'JJ'), ('future', 'NN'), ('.', '.')]\n",
      "[('We', 'PRP'), ('must', 'MD'), ('invest', 'VB'), ('science', 'NN'), (',', ','), ('technology', 'NN'), (',', ','), ('education', 'NN'), (',', ','), ('nurturing', 'VBG'), ('generation', 'NN'), ('thinkers', 'NNS'), ('creators', 'NNS'), ('.', '.')]\n",
      "[('We', 'PRP'), ('potential', 'JJ'), ('lead', 'JJ'), ('world', 'NN'), (',', ','), ('believe', 'VBP'), ('abilities', 'NNS'), ('push', 'VBP'), ('forward', 'RB'), ('confidence', 'NN'), ('.', '.')]\n",
      "[('Finally', 'RB'), (',', ','), ('third', 'JJ'), ('pillar', 'JJ'), ('responsibility', 'NN'), ('.', '.')]\n",
      "[('As', 'IN'), ('nation', 'NN'), (',', ','), ('must', 'MD'), ('understand', 'VB'), ('great', 'JJ'), ('power', 'NN'), ('comes', 'VBZ'), ('great', 'JJ'), ('responsibility', 'NN'), ('.', '.')]\n",
      "[('Whether', 'IN'), ('terms', 'NNS'), ('military', 'JJ'), (',', ','), ('economic', 'JJ'), (',', ','), ('intellectual', 'JJ'), ('strength', 'NN'), (',', ','), ('must', 'MD'), ('use', 'VB'), ('resources', 'NNS'), ('wisely', 'RB'), ('uplift', 'JJ'), ('also', 'RB'), ('around', 'IN'), ('us', 'PRP'), ('.', '.')]\n",
      "[('A', 'DT'), ('powerful', 'JJ'), ('nation', 'NN'), ('one', 'CD'), ('protects', 'VBZ'), (',', ','), ('empowers', 'NNS'), (',', ','), ('inspires', 'NNS'), ('people', 'NNS'), (',', ','), ('I', 'PRP'), ('believe', 'VBP'), ('achieve', 'RB'), (',', ','), ('stand', 'VBP'), ('tall', 'JJ'), ('among', 'IN'), ('great', 'JJ'), ('nations', 'NNS'), ('world', 'NN'), ('.', '.')]\n"
     ]
    }
   ],
   "source": [
    "## We will find the Pos Tag\n",
    "for i in range(len(sentences)):\n",
    "    words=nltk.word_tokenize(sentences[i])\n",
    "    words=[word for word in words if word not in set(stopwords.words('english'))]\n",
    "    pos_tag=nltk.pos_tag(words)\n",
    "    print(pos_tag)"
   ]
  },
  {
   "cell_type": "code",
   "execution_count": 14,
   "id": "bf4bfde0-c8cf-4541-abf5-f4d9f18c4fb5",
   "metadata": {},
   "outputs": [
    {
     "data": {
      "text/plain": [
       "['Türkiye', 'is', 'a', 'beautiful', 'country']"
      ]
     },
     "execution_count": 14,
     "metadata": {},
     "output_type": "execute_result"
    }
   ],
   "source": [
    " \"Türkiye is a beautiful country\".split()"
   ]
  },
  {
   "cell_type": "code",
   "execution_count": 16,
   "id": "bb02cb1e-aa8e-47a5-978a-abb69e93dc30",
   "metadata": {},
   "outputs": [
    {
     "name": "stdout",
     "output_type": "stream",
     "text": [
      "[('Türkiye', 'NNP'), ('is', 'VBZ'), ('a', 'DT'), ('beautiful', 'JJ'), ('country', 'NN')]\n"
     ]
    }
   ],
   "source": [
    "print(nltk.pos_tag(\"Türkiye is a beautiful country\".split()))"
   ]
  }
 ],
 "metadata": {
  "kernelspec": {
   "display_name": "Python (3.12.5)",
   "language": "python",
   "name": "3.12.5"
  },
  "language_info": {
   "codemirror_mode": {
    "name": "ipython",
    "version": 3
   },
   "file_extension": ".py",
   "mimetype": "text/x-python",
   "name": "python",
   "nbconvert_exporter": "python",
   "pygments_lexer": "ipython3",
   "version": "3.12.5"
  }
 },
 "nbformat": 4,
 "nbformat_minor": 5
}
