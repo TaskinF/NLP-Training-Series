{
 "cells": [
  {
   "cell_type": "markdown",
   "id": "35e70a0c-e4e8-446c-ba64-9e98ef032fe1",
   "metadata": {},
   "source": [
    "## Stemming\n",
    "Stemming is the process of reducing a word to its word stem that affixes to suffixes and prefixes or to the roots of words known as a lemma. Stemming is important in natural language understanding (NLU) and natural language processing (NLP)."
   ]
  },
  {
   "cell_type": "code",
   "execution_count": 2,
   "id": "4b2dd849-d211-4633-a7cf-5e83ff4a2d41",
   "metadata": {},
   "outputs": [],
   "source": [
    "## Reviews----> eating, eat,eaten [going,gone,goes]--->go\n",
    "words=[\"eating\",\"eats\",\"eaten\",\"writing\",\"writes\",\"programming\",\"programs\",\"history\",\"finally\",\"finalized\"]"
   ]
  },
  {
   "cell_type": "markdown",
   "id": "73aeb718-3eb1-4246-a399-8c23edb17ae7",
   "metadata": {},
   "source": [
    "Types: \n",
    "1) PorterStemmer\n",
    "2) RegexpStemmer\n",
    "3) Snowball Stemmer"
   ]
  },
  {
   "cell_type": "markdown",
   "id": "db61dcb2-3233-444d-b13c-2374d0c5e675",
   "metadata": {},
   "source": [
    "#### PorterStemmer"
   ]
  },
  {
   "cell_type": "code",
   "execution_count": 3,
   "id": "1015eec2-f700-4f99-a9cd-b5b797829bac",
   "metadata": {},
   "outputs": [],
   "source": [
    "from nltk.stem import PorterStemmer"
   ]
  },
  {
   "cell_type": "code",
   "execution_count": 6,
   "id": "fd299bc8-0c09-401e-be9c-9772e6e6d6bc",
   "metadata": {},
   "outputs": [],
   "source": [
    "porter_stem=PorterStemmer()"
   ]
  },
  {
   "cell_type": "code",
   "execution_count": 7,
   "id": "3b96243c-930f-4a85-bb9c-e3f66018bd56",
   "metadata": {},
   "outputs": [
    {
     "name": "stdout",
     "output_type": "stream",
     "text": [
      "eating---->eat\n",
      "eats---->eat\n",
      "eaten---->eaten\n",
      "writing---->write\n",
      "writes---->write\n",
      "programming---->program\n",
      "programs---->program\n",
      "history---->histori\n",
      "finally---->final\n",
      "finalized---->final\n"
     ]
    }
   ],
   "source": [
    "for word in words:\n",
    "    print(word+\"---->\"+porter_stem.stem(word))"
   ]
  },
  {
   "cell_type": "code",
   "execution_count": 11,
   "id": "3a3007af-0dc6-4843-b451-2bcbeee0c494",
   "metadata": {},
   "outputs": [
    {
     "data": {
      "text/plain": [
       "'congratul'"
      ]
     },
     "execution_count": 11,
     "metadata": {},
     "output_type": "execute_result"
    }
   ],
   "source": [
    "stemming.stem('congratulations')"
   ]
  },
  {
   "cell_type": "markdown",
   "id": "38fb5583-4376-4193-a3fa-54444066415d",
   "metadata": {},
   "source": [
    "#### RegexpStemmer"
   ]
  },
  {
   "cell_type": "code",
   "execution_count": 12,
   "id": "f3706247-1e80-416a-ba90-c02b3b06cd62",
   "metadata": {},
   "outputs": [],
   "source": [
    "from nltk.stem import RegexpStemmer"
   ]
  },
  {
   "cell_type": "code",
   "execution_count": 13,
   "id": "ed8de352-27fc-4adf-920b-e36ac78e28a9",
   "metadata": {},
   "outputs": [],
   "source": [
    "reg_stemmer=RegexpStemmer('ing$|s$|e$|able$', min=4)"
   ]
  },
  {
   "cell_type": "code",
   "execution_count": 14,
   "id": "3148cb9c-fccf-449b-8ac6-a7d6d4f7d616",
   "metadata": {},
   "outputs": [
    {
     "data": {
      "text/plain": [
       "'eat'"
      ]
     },
     "execution_count": 14,
     "metadata": {},
     "output_type": "execute_result"
    }
   ],
   "source": [
    "reg_stemmer.stem('eating')"
   ]
  },
  {
   "cell_type": "code",
   "execution_count": 15,
   "id": "713802c5-7099-48c5-acbb-6768433a1a47",
   "metadata": {},
   "outputs": [
    {
     "data": {
      "text/plain": [
       "'mak'"
      ]
     },
     "execution_count": 15,
     "metadata": {},
     "output_type": "execute_result"
    }
   ],
   "source": [
    "reg_stemmer.stem('make')"
   ]
  },
  {
   "cell_type": "markdown",
   "id": "e27cf067-1e3c-4cac-955d-e43ecff5aa73",
   "metadata": {},
   "source": [
    "#### Snowball Stemmer"
   ]
  },
  {
   "cell_type": "code",
   "execution_count": 16,
   "id": "1986f532-2932-4ecb-b18a-681ba7651e82",
   "metadata": {},
   "outputs": [],
   "source": [
    "from nltk.stem import SnowballStemmer"
   ]
  },
  {
   "cell_type": "code",
   "execution_count": 18,
   "id": "830c1bc4-c467-4adf-8796-056b1597397f",
   "metadata": {},
   "outputs": [],
   "source": [
    "snowball_stemmer=SnowballStemmer('english')"
   ]
  },
  {
   "cell_type": "code",
   "execution_count": 19,
   "id": "d929ccff-ae4b-4b5e-8ad7-f2ac97715198",
   "metadata": {},
   "outputs": [
    {
     "name": "stdout",
     "output_type": "stream",
     "text": [
      "eating---->eat\n",
      "eats---->eat\n",
      "eaten---->eaten\n",
      "writing---->write\n",
      "writes---->write\n",
      "programming---->program\n",
      "programs---->program\n",
      "history---->histori\n",
      "finally---->final\n",
      "finalized---->final\n"
     ]
    }
   ],
   "source": [
    "for word in words:\n",
    "    print(word+\"---->\"+snowball_stemmer.stem(word))"
   ]
  },
  {
   "cell_type": "code",
   "execution_count": 20,
   "id": "450c530d-2b3c-4cd7-8e5b-db1d2f597216",
   "metadata": {},
   "outputs": [
    {
     "data": {
      "text/plain": [
       "('fairli', 'sportingli')"
      ]
     },
     "execution_count": 20,
     "metadata": {},
     "output_type": "execute_result"
    }
   ],
   "source": [
    "porter_stem.stem(\"fairly\"),porter_stem.stem(\"sportingly\")"
   ]
  },
  {
   "cell_type": "code",
   "execution_count": 21,
   "id": "01dca082-c6e6-4628-a098-80bc4336f2cc",
   "metadata": {},
   "outputs": [
    {
     "data": {
      "text/plain": [
       "('fair', 'sport')"
      ]
     },
     "execution_count": 21,
     "metadata": {},
     "output_type": "execute_result"
    }
   ],
   "source": [
    "snowball_stemmer.stem(\"fairly\"),snowball_stemmer.stem(\"sportingly\")"
   ]
  },
  {
   "cell_type": "code",
   "execution_count": 22,
   "id": "7541b0ce-ddfa-4da2-9694-21e20d91d1f3",
   "metadata": {},
   "outputs": [
    {
     "data": {
      "text/plain": [
       "'goe'"
      ]
     },
     "execution_count": 22,
     "metadata": {},
     "output_type": "execute_result"
    }
   ],
   "source": [
    "snowball_stemmer.stem('goes')"
   ]
  }
 ],
 "metadata": {
  "kernelspec": {
   "display_name": "Python (3.12.5)",
   "language": "python",
   "name": "3.12.5"
  },
  "language_info": {
   "codemirror_mode": {
    "name": "ipython",
    "version": 3
   },
   "file_extension": ".py",
   "mimetype": "text/x-python",
   "name": "python",
   "nbconvert_exporter": "python",
   "pygments_lexer": "ipython3",
   "version": "3.12.5"
  }
 },
 "nbformat": 4,
 "nbformat_minor": 5
}
